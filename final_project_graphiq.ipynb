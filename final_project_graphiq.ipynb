{
  "nbformat": 4,
  "nbformat_minor": 0,
  "metadata": {
    "colab": {
      "provenance": [],
      "authorship_tag": "ABX9TyPOXF+Mh+glm8RP8ZRwe/Tj",
      "include_colab_link": true
    },
    "kernelspec": {
      "name": "python3",
      "display_name": "Python 3"
    },
    "language_info": {
      "name": "python"
    }
  },
  "cells": [
    {
      "cell_type": "markdown",
      "metadata": {
        "id": "view-in-github",
        "colab_type": "text"
      },
      "source": [
        "<a href=\"https://colab.research.google.com/github/Aljumaily/COSC5P30/blob/main/final_project_graphiq.ipynb\" target=\"_parent\"><img src=\"https://colab.research.google.com/assets/colab-badge.svg\" alt=\"Open In Colab\"/></a>"
      ]
    },
    {
      "cell_type": "code",
      "execution_count": 3,
      "metadata": {
        "colab": {
          "base_uri": "https://localhost:8080/"
        },
        "id": "pLzPxTkBU8c1",
        "outputId": "2175a4dd-eb67-4915-85d1-efda4a6c21bb",
        "collapsed": true
      },
      "outputs": [
        {
          "output_type": "stream",
          "name": "stdout",
          "text": [
            "Requirement already satisfied: graphiq in /usr/local/lib/python3.10/dist-packages (0.1.1)\n",
            "Requirement already satisfied: numpy~=1.24.4 in /usr/local/lib/python3.10/dist-packages (from graphiq) (1.24.4)\n",
            "Requirement already satisfied: networkx~=3.1 in /usr/local/lib/python3.10/dist-packages (from graphiq) (3.4)\n",
            "Requirement already satisfied: matplotlib~=3.7.5 in /usr/local/lib/python3.10/dist-packages (from graphiq) (3.7.5)\n",
            "Requirement already satisfied: scipy~=1.10.1 in /usr/local/lib/python3.10/dist-packages (from graphiq) (1.10.1)\n",
            "Requirement already satisfied: tqdm in /usr/local/lib/python3.10/dist-packages (from graphiq) (4.66.5)\n",
            "Requirement already satisfied: seaborn in /usr/local/lib/python3.10/dist-packages (from graphiq) (0.13.2)\n",
            "Requirement already satisfied: flask~=2.2.2 in /usr/local/lib/python3.10/dist-packages (from graphiq) (2.2.5)\n",
            "Requirement already satisfied: pandas in /usr/local/lib/python3.10/dist-packages (from graphiq) (2.2.2)\n",
            "Requirement already satisfied: psutil in /usr/local/lib/python3.10/dist-packages (from graphiq) (5.9.5)\n",
            "Requirement already satisfied: py-cpuinfo in /usr/local/lib/python3.10/dist-packages (from graphiq) (9.0.0)\n",
            "Requirement already satisfied: qiskit~=0.38.0 in /usr/local/lib/python3.10/dist-packages (from graphiq) (0.38.0)\n",
            "Requirement already satisfied: pylatexenc in /usr/local/lib/python3.10/dist-packages (from graphiq) (2.10)\n",
            "Requirement already satisfied: Werkzeug>=2.2.2 in /usr/local/lib/python3.10/dist-packages (from flask~=2.2.2->graphiq) (3.0.4)\n",
            "Requirement already satisfied: Jinja2>=3.0 in /usr/local/lib/python3.10/dist-packages (from flask~=2.2.2->graphiq) (3.1.4)\n",
            "Requirement already satisfied: itsdangerous>=2.0 in /usr/local/lib/python3.10/dist-packages (from flask~=2.2.2->graphiq) (2.2.0)\n",
            "Requirement already satisfied: click>=8.0 in /usr/local/lib/python3.10/dist-packages (from flask~=2.2.2->graphiq) (8.1.7)\n",
            "Requirement already satisfied: contourpy>=1.0.1 in /usr/local/lib/python3.10/dist-packages (from matplotlib~=3.7.5->graphiq) (1.3.0)\n",
            "Requirement already satisfied: cycler>=0.10 in /usr/local/lib/python3.10/dist-packages (from matplotlib~=3.7.5->graphiq) (0.12.1)\n",
            "Requirement already satisfied: fonttools>=4.22.0 in /usr/local/lib/python3.10/dist-packages (from matplotlib~=3.7.5->graphiq) (4.54.1)\n",
            "Requirement already satisfied: kiwisolver>=1.0.1 in /usr/local/lib/python3.10/dist-packages (from matplotlib~=3.7.5->graphiq) (1.4.7)\n",
            "Requirement already satisfied: packaging>=20.0 in /usr/local/lib/python3.10/dist-packages (from matplotlib~=3.7.5->graphiq) (24.1)\n",
            "Requirement already satisfied: pillow>=6.2.0 in /usr/local/lib/python3.10/dist-packages (from matplotlib~=3.7.5->graphiq) (10.4.0)\n",
            "Requirement already satisfied: pyparsing>=2.3.1 in /usr/local/lib/python3.10/dist-packages (from matplotlib~=3.7.5->graphiq) (3.1.4)\n",
            "Requirement already satisfied: python-dateutil>=2.7 in /usr/local/lib/python3.10/dist-packages (from matplotlib~=3.7.5->graphiq) (2.8.2)\n",
            "Requirement already satisfied: qiskit-terra==0.21.2 in /usr/local/lib/python3.10/dist-packages (from qiskit~=0.38.0->graphiq) (0.21.2)\n",
            "Requirement already satisfied: qiskit-aer==0.11.0 in /usr/local/lib/python3.10/dist-packages (from qiskit~=0.38.0->graphiq) (0.11.0)\n",
            "Requirement already satisfied: qiskit-ibmq-provider==0.19.2 in /usr/local/lib/python3.10/dist-packages (from qiskit~=0.38.0->graphiq) (0.19.2)\n",
            "Requirement already satisfied: requests>=2.19 in /usr/local/lib/python3.10/dist-packages (from qiskit-ibmq-provider==0.19.2->qiskit~=0.38.0->graphiq) (2.32.3)\n",
            "Requirement already satisfied: requests-ntlm>=1.1.0 in /usr/local/lib/python3.10/dist-packages (from qiskit-ibmq-provider==0.19.2->qiskit~=0.38.0->graphiq) (1.3.0)\n",
            "Requirement already satisfied: urllib3>=1.21.1 in /usr/local/lib/python3.10/dist-packages (from qiskit-ibmq-provider==0.19.2->qiskit~=0.38.0->graphiq) (2.2.3)\n",
            "Requirement already satisfied: websocket-client>=1.0.1 in /usr/local/lib/python3.10/dist-packages (from qiskit-ibmq-provider==0.19.2->qiskit~=0.38.0->graphiq) (1.8.0)\n",
            "Requirement already satisfied: websockets>=10.0 in /usr/local/lib/python3.10/dist-packages (from qiskit-ibmq-provider==0.19.2->qiskit~=0.38.0->graphiq) (13.1)\n",
            "Requirement already satisfied: retworkx>=0.11.0 in /usr/local/lib/python3.10/dist-packages (from qiskit-terra==0.21.2->qiskit~=0.38.0->graphiq) (0.15.1)\n",
            "Requirement already satisfied: ply>=3.10 in /usr/local/lib/python3.10/dist-packages (from qiskit-terra==0.21.2->qiskit~=0.38.0->graphiq) (3.11)\n",
            "Requirement already satisfied: sympy>=1.3 in /usr/local/lib/python3.10/dist-packages (from qiskit-terra==0.21.2->qiskit~=0.38.0->graphiq) (1.13.3)\n",
            "Requirement already satisfied: dill>=0.3 in /usr/local/lib/python3.10/dist-packages (from qiskit-terra==0.21.2->qiskit~=0.38.0->graphiq) (0.3.9)\n",
            "Requirement already satisfied: stevedore>=3.0.0 in /usr/local/lib/python3.10/dist-packages (from qiskit-terra==0.21.2->qiskit~=0.38.0->graphiq) (5.3.0)\n",
            "Requirement already satisfied: tweedledum<2.0,>=1.1 in /usr/local/lib/python3.10/dist-packages (from qiskit-terra==0.21.2->qiskit~=0.38.0->graphiq) (1.1.1)\n",
            "Requirement already satisfied: symengine>=0.9 in /usr/local/lib/python3.10/dist-packages (from qiskit-terra==0.21.2->qiskit~=0.38.0->graphiq) (0.13.0)\n",
            "Requirement already satisfied: pytz>=2020.1 in /usr/local/lib/python3.10/dist-packages (from pandas->graphiq) (2024.2)\n",
            "Requirement already satisfied: tzdata>=2022.7 in /usr/local/lib/python3.10/dist-packages (from pandas->graphiq) (2024.2)\n",
            "Requirement already satisfied: MarkupSafe>=2.0 in /usr/local/lib/python3.10/dist-packages (from Jinja2>=3.0->flask~=2.2.2->graphiq) (3.0.1)\n",
            "Requirement already satisfied: six>=1.5 in /usr/local/lib/python3.10/dist-packages (from python-dateutil>=2.7->matplotlib~=3.7.5->graphiq) (1.16.0)\n",
            "Requirement already satisfied: charset-normalizer<4,>=2 in /usr/local/lib/python3.10/dist-packages (from requests>=2.19->qiskit-ibmq-provider==0.19.2->qiskit~=0.38.0->graphiq) (3.4.0)\n",
            "Requirement already satisfied: idna<4,>=2.5 in /usr/local/lib/python3.10/dist-packages (from requests>=2.19->qiskit-ibmq-provider==0.19.2->qiskit~=0.38.0->graphiq) (3.10)\n",
            "Requirement already satisfied: certifi>=2017.4.17 in /usr/local/lib/python3.10/dist-packages (from requests>=2.19->qiskit-ibmq-provider==0.19.2->qiskit~=0.38.0->graphiq) (2024.8.30)\n",
            "Requirement already satisfied: cryptography>=1.3 in /usr/local/lib/python3.10/dist-packages (from requests-ntlm>=1.1.0->qiskit-ibmq-provider==0.19.2->qiskit~=0.38.0->graphiq) (43.0.1)\n",
            "Requirement already satisfied: pyspnego>=0.4.0 in /usr/local/lib/python3.10/dist-packages (from requests-ntlm>=1.1.0->qiskit-ibmq-provider==0.19.2->qiskit~=0.38.0->graphiq) (0.11.1)\n",
            "Requirement already satisfied: rustworkx==0.15.1 in /usr/local/lib/python3.10/dist-packages (from retworkx>=0.11.0->qiskit-terra==0.21.2->qiskit~=0.38.0->graphiq) (0.15.1)\n",
            "Requirement already satisfied: pbr>=2.0.0 in /usr/local/lib/python3.10/dist-packages (from stevedore>=3.0.0->qiskit-terra==0.21.2->qiskit~=0.38.0->graphiq) (6.1.0)\n",
            "Requirement already satisfied: mpmath<1.4,>=1.1.0 in /usr/local/lib/python3.10/dist-packages (from sympy>=1.3->qiskit-terra==0.21.2->qiskit~=0.38.0->graphiq) (1.3.0)\n",
            "Requirement already satisfied: cffi>=1.12 in /usr/local/lib/python3.10/dist-packages (from cryptography>=1.3->requests-ntlm>=1.1.0->qiskit-ibmq-provider==0.19.2->qiskit~=0.38.0->graphiq) (1.17.1)\n",
            "Requirement already satisfied: pycparser in /usr/local/lib/python3.10/dist-packages (from cffi>=1.12->cryptography>=1.3->requests-ntlm>=1.1.0->qiskit-ibmq-provider==0.19.2->qiskit~=0.38.0->graphiq) (2.22)\n"
          ]
        }
      ],
      "source": [
        "!pip install graphiq"
      ]
    },
    {
      "cell_type": "code",
      "source": [
        "import graphiq as gq\n",
        "from graphiq.benchmarks.circuits import bell_state_circuit\n",
        "import networkx as nx\n",
        "\n",
        "#%%\n",
        "circuit, _ = bell_state_circuit()\n",
        "backend = gq.StabilizerCompiler()\n",
        "state = backend.compile(circuit)\n",
        "print(state)\n",
        "\n",
        "#%%\n",
        "target = gq.QuantumState(data=nx.Graph([(1, 2), (2, 3)]), rep_type=\"g\")\n",
        "metric = gq.Infidelity(target=target)\n",
        "solver = gq.TimeReversedSolver(compiler=backend, metric=metric, target=target)\n",
        "\n",
        "#%%\n",
        "solver.solve()\n",
        "score, circuit = solver.result\n",
        "circuit.draw_circuit()"
      ],
      "metadata": {
        "id": "KbrNFiDOVCEi",
        "colab": {
          "base_uri": "https://localhost:8080/",
          "height": 327
        },
        "outputId": "0ad8af44-cf13-4676-bc55-4e96ab0fd87a"
      },
      "execution_count": 4,
      "outputs": [
        {
          "output_type": "stream",
          "name": "stdout",
          "text": [
            "<graphiq.state.QuantumState object at 0x7c4273716e00>\n"
          ]
        },
        {
          "output_type": "display_data",
          "data": {
            "text/plain": [
              "<Figure size 640x480 with 1 Axes>"
            ],
            "image/png": "[encoded data removed]"
          },
          "metadata": {}
        },
        {
          "output_type": "execute_result",
          "data": {
            "text/plain": [
              "(<Figure size 640x480 with 1 Axes>, <Axes: >)"
            ]
          },
          "metadata": {},
          "execution_count": 4
        }
      ]
    }
  ]
}